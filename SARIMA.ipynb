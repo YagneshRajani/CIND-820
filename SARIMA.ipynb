{
 "cells": [
  {
   "attachments": {},
   "cell_type": "markdown",
   "metadata": {},
   "source": [
    "<font size=\"20\">Predicting Stock Market Trends Using Predictive Analytics, SARIMA Analysis</font>"
   ]
  },
  {
   "attachments": {},
   "cell_type": "markdown",
   "metadata": {},
   "source": [
    "Author: Yagnesh Rajani"
   ]
  },
  {
   "attachments": {},
   "cell_type": "markdown",
   "metadata": {},
   "source": [
    "<font size=\"20\" color = \"Blue\">Libraries, Packages and Data Setup</font>"
   ]
  },
  {
   "attachments": {},
   "cell_type": "markdown",
   "metadata": {},
   "source": [
    "Install and Import Libraries and Packages"
   ]
  },
  {
   "cell_type": "code",
   "execution_count": 71,
   "metadata": {},
   "outputs": [],
   "source": [
    "#%pip install matplotlib\n",
    "#%pip install pandas\n",
    "#%pip install pmdarima\n",
    "#%pip install scikit-learn\n",
    "\n",
    "import sklearn.metrics as metrics\n",
    "from matplotlib import pyplot as plt\n",
    "import pandas as pd\n",
    "from statsmodels.tsa.statespace.sarimax import SARIMAX\n",
    "from statsmodels.tsa.seasonal import seasonal_decompose\n",
    "from pmdarima import auto_arima"
   ]
  },
  {
   "attachments": {},
   "cell_type": "markdown",
   "metadata": {},
   "source": [
    "Import Datasets"
   ]
  },
  {
   "cell_type": "code",
   "execution_count": 72,
   "metadata": {},
   "outputs": [],
   "source": [
    "raw_dataset = pd.DataFrame(pd.read_csv(\"dataset.csv\", sep = \",\", header = 0, parse_dates=['Date']))"
   ]
  },
  {
   "attachments": {},
   "cell_type": "markdown",
   "metadata": {},
   "source": [
    "Format Date to fit Modeling Requirements"
   ]
  },
  {
   "cell_type": "code",
   "execution_count": 73,
   "metadata": {},
   "outputs": [
    {
     "data": {
      "text/html": [
       "<div>\n",
       "<style scoped>\n",
       "    .dataframe tbody tr th:only-of-type {\n",
       "        vertical-align: middle;\n",
       "    }\n",
       "\n",
       "    .dataframe tbody tr th {\n",
       "        vertical-align: top;\n",
       "    }\n",
       "\n",
       "    .dataframe thead th {\n",
       "        text-align: right;\n",
       "    }\n",
       "</style>\n",
       "<table border=\"1\" class=\"dataframe\">\n",
       "  <thead>\n",
       "    <tr style=\"text-align: right;\">\n",
       "      <th></th>\n",
       "      <th>Date</th>\n",
       "      <th>Open</th>\n",
       "      <th>High</th>\n",
       "      <th>Low</th>\n",
       "      <th>Close</th>\n",
       "      <th>Volume</th>\n",
       "      <th>Dividends</th>\n",
       "      <th>Stock Splits</th>\n",
       "    </tr>\n",
       "  </thead>\n",
       "  <tbody>\n",
       "    <tr>\n",
       "      <th>0</th>\n",
       "      <td>1962-01-02</td>\n",
       "      <td>0.058398</td>\n",
       "      <td>0.060358</td>\n",
       "      <td>0.058398</td>\n",
       "      <td>0.058398</td>\n",
       "      <td>841958</td>\n",
       "      <td>0.0</td>\n",
       "      <td>0.0</td>\n",
       "    </tr>\n",
       "    <tr>\n",
       "      <th>1</th>\n",
       "      <td>1962-01-03</td>\n",
       "      <td>0.058398</td>\n",
       "      <td>0.059378</td>\n",
       "      <td>0.058398</td>\n",
       "      <td>0.059182</td>\n",
       "      <td>801865</td>\n",
       "      <td>0.0</td>\n",
       "      <td>0.0</td>\n",
       "    </tr>\n",
       "    <tr>\n",
       "      <th>2</th>\n",
       "      <td>1962-01-04</td>\n",
       "      <td>0.059182</td>\n",
       "      <td>0.059378</td>\n",
       "      <td>0.058791</td>\n",
       "      <td>0.059182</td>\n",
       "      <td>962238</td>\n",
       "      <td>0.0</td>\n",
       "      <td>0.0</td>\n",
       "    </tr>\n",
       "    <tr>\n",
       "      <th>3</th>\n",
       "      <td>1962-01-05</td>\n",
       "      <td>0.059182</td>\n",
       "      <td>0.059574</td>\n",
       "      <td>0.058987</td>\n",
       "      <td>0.059378</td>\n",
       "      <td>962238</td>\n",
       "      <td>0.0</td>\n",
       "      <td>0.0</td>\n",
       "    </tr>\n",
       "    <tr>\n",
       "      <th>4</th>\n",
       "      <td>1962-01-08</td>\n",
       "      <td>0.059378</td>\n",
       "      <td>0.060162</td>\n",
       "      <td>0.058007</td>\n",
       "      <td>0.059182</td>\n",
       "      <td>1282984</td>\n",
       "      <td>0.0</td>\n",
       "      <td>0.0</td>\n",
       "    </tr>\n",
       "  </tbody>\n",
       "</table>\n",
       "</div>"
      ],
      "text/plain": [
       "         Date      Open      High       Low     Close   Volume  Dividends  \\\n",
       "0  1962-01-02  0.058398  0.060358  0.058398  0.058398   841958        0.0   \n",
       "1  1962-01-03  0.058398  0.059378  0.058398  0.059182   801865        0.0   \n",
       "2  1962-01-04  0.059182  0.059378  0.058791  0.059182   962238        0.0   \n",
       "3  1962-01-05  0.059182  0.059574  0.058987  0.059378   962238        0.0   \n",
       "4  1962-01-08  0.059378  0.060162  0.058007  0.059182  1282984        0.0   \n",
       "\n",
       "   Stock Splits  \n",
       "0           0.0  \n",
       "1           0.0  \n",
       "2           0.0  \n",
       "3           0.0  \n",
       "4           0.0  "
      ]
     },
     "execution_count": 73,
     "metadata": {},
     "output_type": "execute_result"
    }
   ],
   "source": [
    "attribute_list = ['Open', 'High', 'Low', 'Close', 'Volume', 'Dividends', 'Stock Splits']\n",
    "dataset = raw_dataset[attribute_list]\n",
    "date = raw_dataset['Date']\n",
    "date = date.astype('string')\n",
    "date = date.str[:-15]\n",
    "dataset.insert(0, \"Date\", date)\n",
    "dataset.head()"
   ]
  },
  {
   "attachments": {},
   "cell_type": "markdown",
   "metadata": {},
   "source": [
    "Model Evaluation Setup"
   ]
  },
  {
   "cell_type": "code",
   "execution_count": 74,
   "metadata": {},
   "outputs": [],
   "source": [
    "evals = []\n",
    "def evaluations(test, pred):\n",
    "    mae = metrics.mean_absolute_error(test, pred)\n",
    "    mape = metrics.mean_absolute_percentage_error(test, pred)\n",
    "    mse = metrics.mean_squared_error(test, pred)\n",
    "    rmse = mse**0.5\n",
    "    #evals = {'MAE': mae, \"MAPE\": mape, \"MSE\": mse, \"RMSE\": rmse}\n",
    "    evals = [mae, mape, mse, rmse]\n",
    "    return(evals)"
   ]
  },
  {
   "attachments": {},
   "cell_type": "markdown",
   "metadata": {},
   "source": [
    "<font size=\"6\" color = \"Orange\">Split the Data Into Training and Testing Datasets</font>"
   ]
  },
  {
   "attachments": {},
   "cell_type": "markdown",
   "metadata": {},
   "source": [
    "Find the Index Where the Data Will be Split"
   ]
  },
  {
   "cell_type": "code",
   "execution_count": 75,
   "metadata": {},
   "outputs": [
    {
     "name": "stdout",
     "output_type": "stream",
     "text": [
      "The index where the data will be split is:  12358\n"
     ]
    }
   ],
   "source": [
    "# Get the index where the training and test datasets will be split from\n",
    "# Note that due to the abundance of data, we are using an 80% training and 20% testing split\n",
    "splitval = 0.80\n",
    "div_index = round(dataset.shape[0] * splitval)\n",
    "print(\"The index where the data will be split is: \", div_index)"
   ]
  },
  {
   "attachments": {},
   "cell_type": "markdown",
   "metadata": {},
   "source": [
    "Split the Dataset"
   ]
  },
  {
   "cell_type": "code",
   "execution_count": 76,
   "metadata": {},
   "outputs": [],
   "source": [
    "train_data = dataset[:div_index]\n",
    "test_data = dataset[div_index:]"
   ]
  },
  {
   "attachments": {},
   "cell_type": "markdown",
   "metadata": {},
   "source": [
    "Find the Index of the First Day in 2020"
   ]
  },
  {
   "cell_type": "code",
   "execution_count": 77,
   "metadata": {},
   "outputs": [
    {
     "name": "stdout",
     "output_type": "stream",
     "text": [
      "[14600]\n"
     ]
    }
   ],
   "source": [
    "covid_index = dataset[dataset['Date'] == \"2020-01-02\"].index.values\n",
    "print(covid_index)"
   ]
  },
  {
   "attachments": {},
   "cell_type": "markdown",
   "metadata": {},
   "source": [
    "Split the Dataset for the Covid Model"
   ]
  },
  {
   "cell_type": "code",
   "execution_count": 78,
   "metadata": {},
   "outputs": [],
   "source": [
    "covid_train_data = dataset[:covid_index[0]]\n",
    "covid_test_data = dataset[covid_index[0]:]"
   ]
  },
  {
   "attachments": {},
   "cell_type": "markdown",
   "metadata": {},
   "source": [
    "<font size=\"6\" color = \"Orange\">Model Training and Testing</font>"
   ]
  },
  {
   "attachments": {},
   "cell_type": "markdown",
   "metadata": {},
   "source": [
    "Compute Seasonal Index"
   ]
  },
  {
   "cell_type": "code",
   "execution_count": 79,
   "metadata": {},
   "outputs": [
    {
     "data": {
      "image/png": "[encoded data removed]",
      "text/plain": [
       "<Figure size 640x480 with 4 Axes>"
      ]
     },
     "metadata": {},
     "output_type": "display_data"
    }
   ],
   "source": [
    "seasonal_index = seasonal_decompose(dataset['Open'], model='multiplicative', period = 1)\n",
    "seasonal_index.plot()\n",
    "plt.show()"
   ]
  },
  {
   "attachments": {},
   "cell_type": "markdown",
   "metadata": {},
   "source": [
    "Fit the Data to The Model"
   ]
  },
  {
   "cell_type": "code",
   "execution_count": 80,
   "metadata": {},
   "outputs": [
    {
     "ename": "ValueError",
     "evalue": "`seasonal_order` argument must be an iterable with four elements.",
     "output_type": "error",
     "traceback": [
      "\u001b[1;31m---------------------------------------------------------------------------\u001b[0m",
      "\u001b[1;31mValueError\u001b[0m                                Traceback (most recent call last)",
      "Cell \u001b[1;32mIn[80], line 16\u001b[0m\n\u001b[0;32m     14\u001b[0m \u001b[39mfor\u001b[39;00m values \u001b[39min\u001b[39;00m attribute_list:\n\u001b[0;32m     15\u001b[0m     p, d, q \u001b[39m=\u001b[39m order_list[attribute_list\u001b[39m.\u001b[39mindex(values)]\n\u001b[1;32m---> 16\u001b[0m     model \u001b[39m=\u001b[39m SARIMAX(train_data[values], order\u001b[39m=\u001b[39;49m(p,d,q), seasonal_order\u001b[39m=\u001b[39;49m())\n\u001b[0;32m     17\u001b[0m     fitted_model \u001b[39m=\u001b[39m model\u001b[39m.\u001b[39mfit()\n",
      "File \u001b[1;32m~\\AppData\\Local\\Packages\\PythonSoftwareFoundation.Python.3.11_qbz5n2kfra8p0\\LocalCache\\local-packages\\Python311\\site-packages\\statsmodels\\tsa\\statespace\\sarimax.py:328\u001b[0m, in \u001b[0;36mSARIMAX.__init__\u001b[1;34m(self, endog, exog, order, seasonal_order, trend, measurement_error, time_varying_regression, mle_regression, simple_differencing, enforce_stationarity, enforce_invertibility, hamilton_representation, concentrate_scale, trend_offset, use_exact_diffuse, dates, freq, missing, validate_specification, **kwargs)\u001b[0m\n\u001b[0;32m    318\u001b[0m \u001b[39mdef\u001b[39;00m \u001b[39m__init__\u001b[39m(\u001b[39mself\u001b[39m, endog, exog\u001b[39m=\u001b[39m\u001b[39mNone\u001b[39;00m, order\u001b[39m=\u001b[39m(\u001b[39m1\u001b[39m, \u001b[39m0\u001b[39m, \u001b[39m0\u001b[39m),\n\u001b[0;32m    319\u001b[0m              seasonal_order\u001b[39m=\u001b[39m(\u001b[39m0\u001b[39m, \u001b[39m0\u001b[39m, \u001b[39m0\u001b[39m, \u001b[39m0\u001b[39m), trend\u001b[39m=\u001b[39m\u001b[39mNone\u001b[39;00m,\n\u001b[0;32m    320\u001b[0m              measurement_error\u001b[39m=\u001b[39m\u001b[39mFalse\u001b[39;00m, time_varying_regression\u001b[39m=\u001b[39m\u001b[39mFalse\u001b[39;00m,\n\u001b[1;32m   (...)\u001b[0m\n\u001b[0;32m    325\u001b[0m              freq\u001b[39m=\u001b[39m\u001b[39mNone\u001b[39;00m, missing\u001b[39m=\u001b[39m\u001b[39m'\u001b[39m\u001b[39mnone\u001b[39m\u001b[39m'\u001b[39m, validate_specification\u001b[39m=\u001b[39m\u001b[39mTrue\u001b[39;00m,\n\u001b[0;32m    326\u001b[0m              \u001b[39m*\u001b[39m\u001b[39m*\u001b[39mkwargs):\n\u001b[1;32m--> 328\u001b[0m     \u001b[39mself\u001b[39m\u001b[39m.\u001b[39m_spec \u001b[39m=\u001b[39m SARIMAXSpecification(\n\u001b[0;32m    329\u001b[0m         endog, exog\u001b[39m=\u001b[39;49mexog, order\u001b[39m=\u001b[39;49morder, seasonal_order\u001b[39m=\u001b[39;49mseasonal_order,\n\u001b[0;32m    330\u001b[0m         trend\u001b[39m=\u001b[39;49mtrend, enforce_stationarity\u001b[39m=\u001b[39;49m\u001b[39mNone\u001b[39;49;00m, enforce_invertibility\u001b[39m=\u001b[39;49m\u001b[39mNone\u001b[39;49;00m,\n\u001b[0;32m    331\u001b[0m         concentrate_scale\u001b[39m=\u001b[39;49mconcentrate_scale, dates\u001b[39m=\u001b[39;49mdates, freq\u001b[39m=\u001b[39;49mfreq,\n\u001b[0;32m    332\u001b[0m         missing\u001b[39m=\u001b[39;49mmissing, validate_specification\u001b[39m=\u001b[39;49mvalidate_specification)\n\u001b[0;32m    333\u001b[0m     \u001b[39mself\u001b[39m\u001b[39m.\u001b[39m_params \u001b[39m=\u001b[39m SARIMAXParams(\u001b[39mself\u001b[39m\u001b[39m.\u001b[39m_spec)\n\u001b[0;32m    335\u001b[0m     \u001b[39m# Save given orders\u001b[39;00m\n",
      "File \u001b[1;32m~\\AppData\\Local\\Packages\\PythonSoftwareFoundation.Python.3.11_qbz5n2kfra8p0\\LocalCache\\local-packages\\Python311\\site-packages\\statsmodels\\tsa\\arima\\specification.py:270\u001b[0m, in \u001b[0;36mSARIMAXSpecification.__init__\u001b[1;34m(self, endog, exog, order, seasonal_order, ar_order, diff, ma_order, seasonal_ar_order, seasonal_diff, seasonal_ma_order, seasonal_periods, trend, enforce_stationarity, enforce_invertibility, concentrate_scale, trend_offset, dates, freq, missing, validate_specification)\u001b[0m\n\u001b[0;32m    267\u001b[0m     \u001b[39mraise\u001b[39;00m \u001b[39mValueError\u001b[39;00m(\u001b[39m'\u001b[39m\u001b[39m`order` argument must be an iterable with three\u001b[39m\u001b[39m'\u001b[39m\n\u001b[0;32m    268\u001b[0m                      \u001b[39m'\u001b[39m\u001b[39m elements.\u001b[39m\u001b[39m'\u001b[39m)\n\u001b[0;32m    269\u001b[0m \u001b[39mif\u001b[39;00m \u001b[39mlen\u001b[39m(seasonal_order) \u001b[39m!=\u001b[39m \u001b[39m4\u001b[39m:\n\u001b[1;32m--> 270\u001b[0m     \u001b[39mraise\u001b[39;00m \u001b[39mValueError\u001b[39;00m(\u001b[39m'\u001b[39m\u001b[39m`seasonal_order` argument must be an iterable\u001b[39m\u001b[39m'\u001b[39m\n\u001b[0;32m    271\u001b[0m                      \u001b[39m'\u001b[39m\u001b[39m with four elements.\u001b[39m\u001b[39m'\u001b[39m)\n\u001b[0;32m    273\u001b[0m \u001b[39m# Validate differencing parameters\u001b[39;00m\n\u001b[0;32m    274\u001b[0m \u001b[39mif\u001b[39;00m validate_specification:\n",
      "\u001b[1;31mValueError\u001b[0m: `seasonal_order` argument must be an iterable with four elements."
     ]
    }
   ],
   "source": [
    "# Create list to store the p, d, q values\n",
    "order_list = []\n",
    "\n",
    "# Find the arima p, d, q values\n",
    "for values in attribute_list:\n",
    "    model = auto_arima(dataset[values], \n",
    "                       error_action='ignore', \n",
    "                       suppress_warnings=True, \n",
    "                       stepwise=False, \n",
    "                       seasonal=True)\n",
    "    order_list.append(model.order)\n",
    "\n",
    "# Fit the data to the model\n",
    "for values in attribute_list:\n",
    "    p, d, q = order_list[attribute_list.index(values)]\n",
    "    model = SARIMAX(train_data[values], order=(p,d,q), seasonal_order=())\n",
    "    fitted_model = model.fit()"
   ]
  },
  {
   "attachments": {},
   "cell_type": "markdown",
   "metadata": {},
   "source": [
    "Print the Model Fits"
   ]
  },
  {
   "cell_type": "code",
   "execution_count": null,
   "metadata": {},
   "outputs": [
    {
     "name": "stdout",
     "output_type": "stream",
     "text": [
      "[(1, 0, 0), (1, 0, 0), (1, 0, 0), (1, 0, 0), (1, 0, 0), (1, 0, 0), (1, 0, 0)]\n"
     ]
    }
   ],
   "source": [
    "print(order_list)"
   ]
  },
  {
   "attachments": {},
   "cell_type": "markdown",
   "metadata": {},
   "source": [
    "Train the Model"
   ]
  },
  {
   "cell_type": "code",
   "execution_count": null,
   "metadata": {},
   "outputs": [],
   "source": [
    "prediction_eval = pd.DataFrame(columns = [\"MAE\", \"MAPE\", \"MSE\", \"RMSE\"])\n",
    "\n",
    "for values in attribute_list:\n",
    "    p, d, q = order_list[attribute_list.index(values)]\n",
    "\n",
    "    # Fit ARIMA model\n",
    "    train_model = auto_arima(train_data[values], seasonal = True)\n",
    "    # Create a prediction based on the number of items in the test data\n",
    "    prediction_model = train_model.predict(n_periods = len(test_data[values]))\n",
    "\n",
    "    # Calculate metrics using the evaluations function\n",
    "    predictions = pd.Series(prediction_model)\n",
    "    prediction_eval.loc[values] = evaluations(test_data[values], predictions)\n",
    "\n",
    "    # Display the test data (actual) overlayed with the prediction data\n",
    "    fig, ax = plt.subplots(figsize = (20,5))\n",
    "    prediction_model.plot(ax = ax, color = 'r')\n",
    "    test_data[values].plot(ax = ax)\n",
    "    plt.xlabel(\"Time\")\n",
    "    plt.ylabel(values)\n",
    "    plt.show()"
   ]
  },
  {
   "attachments": {},
   "cell_type": "markdown",
   "metadata": {},
   "source": [
    "<font size=\"6\" color = \"Orange\">COVID Model Training and Testing</font>"
   ]
  },
  {
   "attachments": {},
   "cell_type": "markdown",
   "metadata": {},
   "source": [
    "Fit the Data to The Model"
   ]
  },
  {
   "cell_type": "code",
   "execution_count": null,
   "metadata": {},
   "outputs": [],
   "source": [
    "# Create list to store the p, d, q values\n",
    "covid_order_list = []\n",
    "\n",
    "# Find the arima p, d, q values\n",
    "for values in attribute_list:\n",
    "    covid_model = auto_arima(dataset[values], \n",
    "                       error_action='ignore', \n",
    "                       suppress_warnings=True, \n",
    "                       stepwise=False, \n",
    "                       seasonal=True)\n",
    "    covid_order_list.append(covid_model.order)\n",
    "\n",
    "# Fit the data to the model\n",
    "for values in attribute_list:\n",
    "    p, d, q = covid_order_list[attribute_list.index(values)]\n",
    "    covid_model = SARIMAX(covid_train_data[values], order=(p,d,q), seasonal_order = ())\n",
    "    covid_fitted_model = covid_model.fit()"
   ]
  },
  {
   "attachments": {},
   "cell_type": "markdown",
   "metadata": {},
   "source": [
    "Print the Model Fits"
   ]
  },
  {
   "cell_type": "code",
   "execution_count": null,
   "metadata": {},
   "outputs": [],
   "source": [
    "print(covid_order_list)"
   ]
  },
  {
   "attachments": {},
   "cell_type": "markdown",
   "metadata": {},
   "source": [
    "Train the Model on the Covid Training Data and Apply it to the Covid Test Data"
   ]
  },
  {
   "cell_type": "code",
   "execution_count": null,
   "metadata": {},
   "outputs": [],
   "source": [
    "covid_prediction_eval = pd.DataFrame(columns = [\"MAE\", \"MAPE\", \"MSE\", \"RMSE\"])\n",
    "\n",
    "for values in attribute_list:\n",
    "    p, d, q = order_list[attribute_list.index(values)]\n",
    "\n",
    "    # Fit ARIMA model\n",
    "    covid_train_model = auto_arima(covid_train_data[values], seasonal = True)\n",
    "    # Create a prediction based on the number of items in the test data\n",
    "    covid_prediction_model = covid_train_model.predict(n_periods = len(covid_test_data[values]))\n",
    "\n",
    "    # Calculate metrics using the evaluations function\n",
    "    covid_predictions = pd.Series(covid_prediction_model)\n",
    "    covid_prediction_eval.loc[values] = evaluations(covid_test_data[values], covid_predictions)\n",
    "\n",
    "    # Display the test data (actual) overlayed with the prediction data\n",
    "    fig, ax = plt.subplots(figsize = (20,5))\n",
    "    covid_prediction_model.plot(ax = ax, color = 'r')\n",
    "    test_data[values].plot(ax = ax)\n",
    "    plt.xlabel(\"Time\")\n",
    "    plt.ylabel(values)\n",
    "    plt.show()"
   ]
  },
  {
   "attachments": {},
   "cell_type": "markdown",
   "metadata": {},
   "source": [
    "<font size=\"6\" color = \"Orange\">Model Evaluation</font>"
   ]
  },
  {
   "attachments": {},
   "cell_type": "markdown",
   "metadata": {},
   "source": [
    "Regular Model Metrics"
   ]
  },
  {
   "cell_type": "code",
   "execution_count": null,
   "metadata": {},
   "outputs": [],
   "source": [
    "prediction_eval"
   ]
  },
  {
   "attachments": {},
   "cell_type": "markdown",
   "metadata": {},
   "source": [
    "Covid Model Metrics"
   ]
  },
  {
   "cell_type": "code",
   "execution_count": null,
   "metadata": {},
   "outputs": [],
   "source": [
    "covid_prediction_eval"
   ]
  }
 ],
 "metadata": {
  "kernelspec": {
   "display_name": "Python 3",
   "language": "python",
   "name": "python3"
  },
  "language_info": {
   "codemirror_mode": {
    "name": "ipython",
    "version": 3
   },
   "file_extension": ".py",
   "mimetype": "text/x-python",
   "name": "python",
   "nbconvert_exporter": "python",
   "pygments_lexer": "ipython3",
   "version": "3.11.4"
  },
  "orig_nbformat": 4
 },
 "nbformat": 4,
 "nbformat_minor": 2
}
